{
 "cells": [
  {
   "cell_type": "code",
   "execution_count": 2,
   "id": "43b68a41",
   "metadata": {},
   "outputs": [],
   "source": [
    "import requests\n",
    "from tqdm import tqdm \n",
    "from bs4 import BeautifulSoup\n",
    "import pandas as pd"
   ]
  },
  {
   "cell_type": "markdown",
   "id": "70be29ac",
   "metadata": {},
   "source": [
    "### 1st DataFrame Created"
   ]
  },
  {
   "cell_type": "code",
   "execution_count": null,
   "id": "4cc051f4",
   "metadata": {},
   "outputs": [],
   "source": [
    "data=[]\n",
    "for i in tqdm(range(1,51)):\n",
    "        link='https://books.toscrape.com/catalogue/page-' + str(i) + '.html'\n",
    "        res=requests.get(link)\n",
    "        soup=BeautifulSoup(res.text,'html.parser')\n",
    "        for sp in soup.find_all('li', class_='col-xs-6 col-sm-4 col-md-3 col-lg-3'):\n",
    "            \n",
    "    \n",
    "            book_link=sp.find_all('a')[-1].get('href')    \n",
    "            title=sp.find_all('a')[-1].get('title')\n",
    "            rating=sp.find('p').get('class')[-1]\n",
    "            img_link=sp.find('img').get('src')\n",
    "            price=sp.find('p',class_=\"price_color\").text[1:]\n",
    "            stock=sp.find('p',class_=\"instock availability\").text.strip()\n",
    "            data.append([title,rating,price,stock,'https://books.toscrape.com/catalogue/'+book_link,'https://books.toscrape.com/'+img_link])"
   ]
  },
  {
   "cell_type": "code",
   "execution_count": null,
   "id": "755c216e",
   "metadata": {},
   "outputs": [],
   "source": [
    "df=pd.DataFrame(data, columns=['Title','Rating','Price','Stock', 'Book_link','Img_link'])"
   ]
  },
  {
   "cell_type": "code",
   "execution_count": null,
   "id": "0d36b382",
   "metadata": {},
   "outputs": [],
   "source": [
    "df"
   ]
  },
  {
   "cell_type": "code",
   "execution_count": null,
   "id": "f80a1613",
   "metadata": {},
   "outputs": [],
   "source": [
    "df=pd.read_csv('Books.csv')"
   ]
  },
  {
   "cell_type": "markdown",
   "id": "0e7a5323",
   "metadata": {},
   "source": [
    "### 2nd DataFrame Created"
   ]
  },
  {
   "cell_type": "markdown",
   "id": "fd972b09",
   "metadata": {},
   "source": [
    "extracting details from the table and other various details"
   ]
  },
  {
   "cell_type": "code",
   "execution_count": null,
   "id": "f987ae42",
   "metadata": {},
   "outputs": [],
   "source": [
    "data=[]\n",
    "for link in tqdm(df['Book_link']):\n",
    "    res=requests.get(link)\n",
    "    soup=BeautifulSoup(res.text,'html.parser')\n",
    "    typ=soup.find('ul', class_='breadcrumb').find_all('a')[2].text\n",
    "#     print(soup.find('title').text)\n",
    "    upc=soup.find('table', class_='table table-striped').find_all('td')[0].text\n",
    "    pdt_typ=soup.find('table', class_='table table-striped').find_all('td')[1].text\n",
    "    price_e=soup.find('table', class_='table table-striped').find_all('td')[2].text[1:]\n",
    "    price_i=soup.find('table', class_='table table-striped').find_all('td')[3].text[1:]\n",
    "    tax=soup.find('table', class_='table table-striped').find_all('td')[4].text[1:]\n",
    "    stock=soup.find('table', class_='table table-striped').find_all('td')[5].text\n",
    "    data.append([upc,pdt_typ,price_e,price_i,tax,stock])"
   ]
  },
  {
   "cell_type": "code",
   "execution_count": null,
   "id": "f5b556b1",
   "metadata": {},
   "outputs": [],
   "source": [
    "df1=pd.DataFrame(data, columns=['UPC','Product_Type','Price_ex_tax','Price_in_tax','Tax','Stock'])"
   ]
  },
  {
   "cell_type": "code",
   "execution_count": null,
   "id": "14cbef0e",
   "metadata": {},
   "outputs": [],
   "source": [
    "df1.to_csv('Dataa.csv', index=False)"
   ]
  },
  {
   "cell_type": "markdown",
   "id": "da9f42e3",
   "metadata": {},
   "source": [
    "### Combining the 2 DataFrames and extracting the Final outcomes"
   ]
  },
  {
   "cell_type": "code",
   "execution_count": null,
   "id": "dbf891df",
   "metadata": {},
   "outputs": [],
   "source": [
    "df=pd.DataFrame()  #creating the empty dataframe"
   ]
  },
  {
   "cell_type": "code",
   "execution_count": null,
   "id": "c2419583",
   "metadata": {},
   "outputs": [],
   "source": [
    "df1=pd.read_csv('Dataa.csv')"
   ]
  },
  {
   "cell_type": "code",
   "execution_count": null,
   "id": "b344c895",
   "metadata": {},
   "outputs": [],
   "source": [
    "df2=pd.read_csv('Books.csv')"
   ]
  },
  {
   "cell_type": "code",
   "execution_count": null,
   "id": "0fffe59f",
   "metadata": {},
   "outputs": [],
   "source": [
    "df['Title']=df2['Title']\n",
    "df['UPC']=df1['UPC']\n",
    "df['Rating']=df2['Rating']\n",
    "df['Price_ex_tax']=df1['Price_ex_tax']\n",
    "df['Price_in_tax']=df1['Price_in_tax']\n",
    "df['Total Tax']=df1['Tax']\n",
    "df['Stock']=df1['Stock']\n",
    "df['Book Link']=df2['Book_link']\n",
    "df['Cover Image']=df2['Img_link']\n",
    "df.to_csv('Final_Scrape.csv')"
   ]
  },
  {
   "cell_type": "markdown",
   "id": "415fc1db",
   "metadata": {},
   "source": [
    "got the final csv file as 'Final_scrape.csv having details of the books present on the website i.e 'https://books.toscrape.com/''"
   ]
  },
  {
   "cell_type": "code",
   "execution_count": null,
   "id": "0290cc7a",
   "metadata": {},
   "outputs": [],
   "source": []
  }
 ],
 "metadata": {
  "kernelspec": {
   "display_name": "Python 3 (ipykernel)",
   "language": "python",
   "name": "python3"
  },
  "language_info": {
   "codemirror_mode": {
    "name": "ipython",
    "version": 3
   },
   "file_extension": ".py",
   "mimetype": "text/x-python",
   "name": "python",
   "nbconvert_exporter": "python",
   "pygments_lexer": "ipython3",
   "version": "3.11.5"
  }
 },
 "nbformat": 4,
 "nbformat_minor": 5
}
